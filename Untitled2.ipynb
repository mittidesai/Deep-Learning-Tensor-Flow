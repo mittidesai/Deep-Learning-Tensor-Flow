{
 "cells": [
  {
   "cell_type": "code",
   "execution_count": 5,
   "metadata": {
    "collapsed": false
   },
   "outputs": [
    {
     "name": "stdout",
     "output_type": "stream",
     "text": [
      "Extracting MNIST_data/train-images-idx3-ubyte.gz\n",
      "Extracting MNIST_data/train-labels-idx1-ubyte.gz\n",
      "Extracting MNIST_data/t10k-images-idx3-ubyte.gz\n",
      "Extracting MNIST_data/t10k-labels-idx1-ubyte.gz\n",
      "(0, 0.1124)\n",
      "(100, 0.57550001)\n",
      "(200, 0.67580003)\n",
      "(300, 0.76230001)\n",
      "(400, 0.79540002)\n",
      "(500, 0.8294)\n",
      "(600, 0.85329998)\n",
      "(700, 0.86559999)\n",
      "(800, 0.87459999)\n",
      "(900, 0.88050002)\n",
      "(1000, 0.88510001)\n",
      "(1100, 0.88789999)\n",
      "(1200, 0.89139998)\n",
      "(1300, 0.89389998)\n",
      "(1400, 0.89609998)\n",
      "(1500, 0.89920002)\n",
      "(1600, 0.90140003)\n",
      "(1700, 0.90310001)\n",
      "(1800, 0.90439999)\n",
      "(1900, 0.90570003)\n",
      "(2000, 0.90689999)\n",
      "(2100, 0.90750003)\n",
      "(2200, 0.9084)\n",
      "(2300, 0.90890002)\n",
      "(2400, 0.90990001)\n",
      "0.9116\n"
     ]
    }
   ],
   "source": [
    "# Learning with old style neural network\n",
    "\n",
    "\n",
    "# MNIST_data is a collection of 2D gray level images.\n",
    "# Each image is a picture of  a digit from 0..9\n",
    "# Each image is of size 28 x 28 pixels\n",
    "\n",
    "\n",
    "from tensorflow.examples.tutorials.mnist import input_data\n",
    "mnist = input_data.read_data_sets('MNIST_data', one_hot=True)\n",
    "\n",
    "import tensorflow as tf\n",
    "sess = tf.InteractiveSession()\n",
    "\n",
    "# xi is an image of size n. yi is the N labels of the image\n",
    "# X is mxn. Row xi of X is an image \n",
    "# Y is mxN. Row yi of Y is the labels of xi\n",
    "X = tf.placeholder(tf.float32, shape=[None, 784])\n",
    "Y = tf.placeholder(tf.float32, shape=[None, 10])\n",
    "\n",
    "# a method for initializing weights. Initialize to small random values\n",
    "\n",
    "def weight_variable(shape):\n",
    "  initial = tf.truncated_normal(shape, stddev=0.22)\n",
    "  return tf.Variable(initial)\n",
    "\n",
    "# a method for initializing bias. Initialize to 0.1\n",
    "\n",
    "def bias_variable(shape):\n",
    "  initial = tf.constant(0.3, shape=shape)\n",
    "  return tf.Variable(initial)\n",
    "\n",
    "# Densely Connected Hidden Layer of 1024 nodes\n",
    "\n",
    "W_fc1 = weight_variable([784, 1024])\n",
    "b_fc1 = bias_variable([1024])\n",
    "v_fc1 = tf.nn.sigmoid(tf.matmul(X, W_fc1) + b_fc1) # v_fc1 ?x1024\n",
    "\n",
    "# Readout Layer\n",
    "\n",
    "W_fc2 = weight_variable([1024, 10])\n",
    "b_fc2 = bias_variable([10])\n",
    "v_fc2 = tf.nn.sigmoid(tf.matmul(v_fc1, W_fc2) + b_fc2) # v_fc2 ?x10\n",
    "\n",
    "predicted_Y = v_fc2;\n",
    "\n",
    "sess.run(tf.global_variables_initializer())\n",
    "\n",
    "mse = tf.losses.mean_squared_error(Y, predicted_Y)\n",
    "\n",
    "train_step = tf.train.GradientDescentOptimizer(0.7).minimize(mse)\n",
    "\n",
    "for i in range(2500):\n",
    "    batch = mnist.train.next_batch(2500)\n",
    "    if i % 100 == 0:\n",
    "        correct_prediction = tf.equal(tf.argmax(predicted_Y,1), tf.argmax(Y,1))\n",
    "        accuracy = tf.reduce_mean(tf.cast(correct_prediction, tf.float32))\n",
    "        print(i, accuracy.eval(feed_dict={X: mnist.test.images, Y: mnist.test.labels}))\n",
    "    train_step.run(feed_dict={X: batch[0], Y: batch[1]})\n",
    "\n",
    "correct_prediction = tf.equal(tf.argmax(predicted_Y,1), tf.argmax(Y,1))\n",
    "accuracy = tf.reduce_mean(tf.cast(correct_prediction, tf.float32))\n",
    "\n",
    "print(accuracy.eval(feed_dict={X: mnist.test.images, Y: mnist.test.labels}))"
   ]
  },
  {
   "cell_type": "code",
   "execution_count": null,
   "metadata": {
    "collapsed": true
   },
   "outputs": [],
   "source": []
  }
 ],
 "metadata": {
  "kernelspec": {
   "display_name": "Python 3",
   "language": "python",
   "name": "python3"
  },
  "language_info": {
   "codemirror_mode": {
    "name": "ipython",
    "version": 2
   },
   "file_extension": ".py",
   "mimetype": "text/x-python",
   "name": "python",
   "nbconvert_exporter": "python",
   "pygments_lexer": "ipython2",
   "version": "2.7.13"
  }
 },
 "nbformat": 4,
 "nbformat_minor": 2
}
